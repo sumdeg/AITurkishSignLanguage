{
 "cells": [
  {
   "cell_type": "code",
   "execution_count": 1,
   "id": "cfd5d0c7",
   "metadata": {},
   "outputs": [],
   "source": [
    "import cv2\n",
    "import numpy as np\n",
    "import os\n",
    "from matplotlib import pyplot as plt\n",
    "import time\n",
    "import mediapipe as mp\n",
    "import mediapipe_test as MP"
   ]
  },
  {
   "cell_type": "code",
   "execution_count": 2,
   "id": "10c072c7",
   "metadata": {},
   "outputs": [],
   "source": [
    "mp_drawing = mp.solutions.drawing_utils \n",
    "mp_holistic = mp.solutions.holistic "
   ]
  },
  {
   "cell_type": "code",
   "execution_count": 5,
   "id": "18482f06",
   "metadata": {},
   "outputs": [],
   "source": [
    "def get_keypoint_data(results):\n",
    "    if results.pose_landmarks:\n",
    "        pose = np.array([[pose_landmark.x, pose_landmark.y, pose_landmark.z, pose_landmark.visibility] for pose_landmark in results.pose_landmarks.landmark]).flatten()\n",
    "    else:\n",
    "        pose = np.zeros(33*4)\n",
    "\n",
    "    if results.left_hand_landmarks:\n",
    "        left_hand = np.array([[hand_landmark.x, hand_landmark.y, hand_landmark.z] for hand_landmark in results.left_hand_landmarks.landmark]).flatten()\n",
    "    else:\n",
    "        left_hand = np.zeros(21*3)\n",
    "\n",
    "    if results.right_hand_landmarks:\n",
    "        right_hand = np.array([[hand_landmark.x, hand_landmark.y, hand_landmark.z] for hand_landmark in results.right_hand_landmarks.landmark]).flatten()\n",
    "    else:\n",
    "        right_hand = np.zeros(21*3)\n",
    "\n",
    "    return np.concatenate([pose, left_hand, right_hand])"
   ]
  },
  {
   "cell_type": "code",
   "execution_count": 6,
   "id": "fb2fa5ec",
   "metadata": {},
   "outputs": [],
   "source": [
    "PATH = os.path.join('data') \n",
    "actions = np.array(['gorusuruz'])\n",
    "video_count = 20  \n",
    "frame_count = 40  "
   ]
  },
  {
   "cell_type": "code",
   "execution_count": 7,
   "id": "d840f7f0",
   "metadata": {},
   "outputs": [],
   "source": [
    "for action in actions: \n",
    "    for sequence in range(video_count):\n",
    "        try: \n",
    "            os.makedirs(os.path.join(PATH, action, str(sequence)))\n",
    "        except:\n",
    "            pass"
   ]
  },
  {
   "cell_type": "code",
   "execution_count": 10,
   "id": "126e7945",
   "metadata": {},
   "outputs": [],
   "source": [
    "cap = cv2.VideoCapture(0)\n",
    "with mp_holistic.Holistic(min_detection_confidence=0.5, min_tracking_confidence=0.5) as holistic:\n",
    "    for action in actions:\n",
    "        for sequence in range(video_count):\n",
    "            for frame_num in range(frame_count):\n",
    "\n",
    "                ret, frame = cap.read()\n",
    "\n",
    "                image, results = MP.process_image(frame, holistic)\n",
    "\n",
    "                MP.draw_customized_landmarks(image, results)               \n",
    "                \n",
    "                if frame_num == 0: \n",
    "                    cv2.putText(image, 'Veri Seti Hazirlaniyor', (120,200), \n",
    "                               cv2.FONT_HERSHEY_SIMPLEX, 1, (255, 165, 0), 4, cv2.LINE_AA)\n",
    "                    cv2.putText(image, '{} Video {}'.format(action, sequence), (15,12), \n",
    "                               cv2.FONT_HERSHEY_SIMPLEX, 0.5, (255, 165, 0), 1, cv2.LINE_AA)\n",
    "                    cv2.imshow('OpenCV', image)\n",
    "                    cv2.waitKey(2000)\n",
    "                else: \n",
    "                    cv2.putText(image, '{} Video {}'.format(action, sequence), (15,12), \n",
    "                               cv2.FONT_HERSHEY_SIMPLEX, 0.5, (255, 165, 0), 1, cv2.LINE_AA)\n",
    "                    cv2.imshow('OpenCV', image)\n",
    "                \n",
    "               \n",
    "                keypoints = get_keypoint_data(results)\n",
    "                npy_path = os.path.join(PATH, action, str(sequence), str(frame_num))\n",
    "                np.save(npy_path, keypoints)\n",
    "\n",
    "               \n",
    "                if cv2.waitKey(10) & 0xFF == ord('q'):\n",
    "                    break\n",
    "                    \n",
    "    cap.release()\n",
    "    cv2.destroyAllWindows()"
   ]
  },
  {
   "cell_type": "code",
   "execution_count": 11,
   "id": "3074ee2e",
   "metadata": {},
   "outputs": [
    {
     "data": {
      "text/plain": [
       "array([ 5.05212307e-01,  3.19166124e-01, -8.09150577e-01,  9.99751925e-01,\n",
       "        5.28509378e-01,  2.73946285e-01, -7.64414668e-01,  9.99618769e-01,\n",
       "        5.43230653e-01,  2.74028450e-01, -7.64308691e-01,  9.99613404e-01,\n",
       "        5.54775715e-01,  2.74638355e-01, -7.63657272e-01,  9.99541998e-01,\n",
       "        4.82725859e-01,  2.76608795e-01, -7.59062707e-01,  9.99706447e-01,\n",
       "        4.68368113e-01,  2.78206855e-01, -7.58912802e-01,  9.99748409e-01,\n",
       "        4.56936061e-01,  2.79743284e-01, -7.59293973e-01,  9.99771833e-01,\n",
       "        5.72731674e-01,  2.98090249e-01, -4.19774294e-01,  9.99414980e-01,\n",
       "        4.45913076e-01,  3.03912193e-01, -3.80273461e-01,  9.99831915e-01,\n",
       "        5.36853433e-01,  3.72454971e-01, -6.81541264e-01,  9.99803901e-01,\n",
       "        4.80150938e-01,  3.72235626e-01, -6.74253643e-01,  9.99896109e-01,\n",
       "        6.69666886e-01,  5.53286850e-01, -1.98609188e-01,  9.96376872e-01,\n",
       "        3.67155075e-01,  5.73163629e-01, -1.30089179e-01,  9.98877823e-01,\n",
       "        7.50147700e-01,  9.29977655e-01, -5.83879828e-01,  6.72441363e-01,\n",
       "        2.49202803e-01,  9.35118735e-01, -3.99732083e-01,  8.50543082e-01,\n",
       "        5.72149634e-01,  5.89962184e-01, -1.25044310e+00,  5.32794833e-01,\n",
       "        3.96660119e-01,  8.81642580e-01, -1.10358214e+00,  5.67357659e-01,\n",
       "        5.30191600e-01,  5.09315193e-01, -1.38479769e+00,  5.25437832e-01,\n",
       "        4.46852505e-01,  8.87629330e-01, -1.22503114e+00,  5.19398212e-01,\n",
       "        5.31150222e-01,  4.72656190e-01, -1.32362580e+00,  5.45456588e-01,\n",
       "        4.62642729e-01,  8.28461468e-01, -1.19950151e+00,  5.62182307e-01,\n",
       "        5.39306104e-01,  5.06801546e-01, -1.23731053e+00,  5.35153866e-01,\n",
       "        4.51136649e-01,  8.13507438e-01, -1.10385096e+00,  5.44416070e-01,\n",
       "        6.17556512e-01,  1.17177987e+00, -2.88838446e-02,  1.82709619e-01,\n",
       "        4.01246637e-01,  1.13172543e+00,  3.15793939e-02,  1.89444602e-01,\n",
       "        5.95900118e-01,  1.63049626e+00,  8.10276642e-02,  2.11101659e-02,\n",
       "        3.83543640e-01,  1.62140214e+00,  9.73387882e-02,  1.32387104e-02,\n",
       "        5.84488630e-01,  2.03176522e+00,  5.95481217e-01,  2.35513970e-03,\n",
       "        3.77005726e-01,  2.02765322e+00,  4.90570873e-01,  2.10808567e-03,\n",
       "        5.89383185e-01,  2.08369088e+00,  6.21430159e-01,  1.48242828e-03,\n",
       "        3.70167047e-01,  2.08688307e+00,  5.18492520e-01,  2.48508342e-03,\n",
       "        5.46838105e-01,  2.17985058e+00,  1.80770949e-01,  2.45281635e-03,\n",
       "        4.05129671e-01,  2.16358733e+00,  3.78481932e-02,  4.73043323e-03,\n",
       "        5.73911607e-01,  5.80323696e-01, -3.35724479e-07,  5.70708275e-01,\n",
       "        5.22462130e-01, -5.06011210e-03,  5.34988165e-01,  4.66412246e-01,\n",
       "       -1.62373520e-02,  4.81309414e-01,  4.52134311e-01, -2.59710439e-02,\n",
       "        4.42768157e-01,  4.56820250e-01, -3.46820354e-02,  5.54002821e-01,\n",
       "        4.45012391e-01, -3.18019725e-02,  4.85423654e-01,  4.22499031e-01,\n",
       "       -5.08925393e-02,  4.90511060e-01,  4.49406326e-01, -5.76305129e-02,\n",
       "        5.08493304e-01,  4.61140513e-01, -5.98767512e-02,  5.44091284e-01,\n",
       "        4.84444380e-01, -3.71587351e-02,  4.70742375e-01,  4.59377915e-01,\n",
       "       -5.29271364e-02,  4.81136501e-01,  4.83778596e-01, -5.04907593e-02,\n",
       "        5.00690043e-01,  4.93368864e-01, -4.83205765e-02,  5.30854762e-01,\n",
       "        5.24325788e-01, -4.21530232e-02,  4.66734141e-01,  5.02843320e-01,\n",
       "       -5.51640913e-02,  4.80555087e-01,  5.20667434e-01, -4.35036793e-02,\n",
       "        4.99404192e-01,  5.27359843e-01, -3.47785130e-02,  5.14982462e-01,\n",
       "        5.62477946e-01, -4.69730422e-02,  4.69117820e-01,  5.39926052e-01,\n",
       "       -5.47363386e-02,  4.82213020e-01,  5.50991774e-01, -4.57778536e-02,\n",
       "        4.97982293e-01,  5.57117701e-01, -3.87450345e-02,  3.76298726e-01,\n",
       "        8.72283161e-01, -1.89340668e-07,  4.21409339e-01,  8.19139183e-01,\n",
       "       -1.08515490e-02,  4.89313722e-01,  7.96641588e-01, -2.28268281e-02,\n",
       "        5.36174357e-01,  8.20544422e-01, -3.14302780e-02,  5.40579975e-01,\n",
       "        8.64041328e-01, -3.65092494e-02,  4.52849925e-01,  8.12324822e-01,\n",
       "       -4.85832803e-02,  5.27632356e-01,  8.40308130e-01, -6.51259795e-02,\n",
       "        5.10595798e-01,  8.37619066e-01, -6.74900711e-02,  4.87590373e-01,\n",
       "        8.28303516e-01, -6.64476603e-02,  4.41770583e-01,  8.64188731e-01,\n",
       "       -4.99730669e-02,  5.19308984e-01,  8.91931951e-01, -6.16845489e-02,\n",
       "        5.01290977e-01,  8.83701682e-01, -5.33800870e-02,  4.73339677e-01,\n",
       "        8.73949826e-01, -4.70723398e-02,  4.34682399e-01,  9.13458049e-01,\n",
       "       -5.04142344e-02,  5.07501721e-01,  9.31942225e-01, -5.39739653e-02,\n",
       "        4.91292596e-01,  9.22094047e-01, -3.85997407e-02,  4.63105887e-01,\n",
       "        9.13447022e-01, -2.89475955e-02,  4.31063116e-01,  9.57771420e-01,\n",
       "       -5.21370173e-02,  4.86745715e-01,  9.63410676e-01, -5.06459884e-02,\n",
       "        4.74369824e-01,  9.52788353e-01, -3.95514816e-02,  4.51003850e-01,\n",
       "        9.49843168e-01, -3.31077464e-02])"
      ]
     },
     "execution_count": 11,
     "metadata": {},
     "output_type": "execute_result"
    }
   ],
   "source": [
    "np.load('Data/gunaydin/2/11.npy')"
   ]
  },
  {
   "cell_type": "code",
   "execution_count": null,
   "id": "2398b201",
   "metadata": {},
   "outputs": [],
   "source": []
  }
 ],
 "metadata": {
  "kernelspec": {
   "display_name": "Python 3 (ipykernel)",
   "language": "python",
   "name": "python3"
  },
  "language_info": {
   "codemirror_mode": {
    "name": "ipython",
    "version": 3
   },
   "file_extension": ".py",
   "mimetype": "text/x-python",
   "name": "python",
   "nbconvert_exporter": "python",
   "pygments_lexer": "ipython3",
   "version": "3.10.9"
  }
 },
 "nbformat": 4,
 "nbformat_minor": 5
}
