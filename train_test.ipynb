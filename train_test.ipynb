{
 "cells": [
  {
   "cell_type": "code",
   "execution_count": 2,
   "id": "14e6827e",
   "metadata": {},
   "outputs": [],
   "source": [
    "import cv2\n",
    "import numpy as np\n",
    "import os\n",
    "from matplotlib import pyplot as plt\n",
    "import time\n",
    "import mediapipe as mp"
   ]
  },
  {
   "cell_type": "code",
   "execution_count": 3,
   "id": "cc2ab532",
   "metadata": {},
   "outputs": [],
   "source": [
    "from sklearn.model_selection import train_test_split\n",
    "from tensorflow.keras.utils import to_categorical\n",
    "from keras.layers import Flatten, Dense, Dropout\n",
    "from keras.models import Sequential\n",
    "from tensorflow.keras.regularizers import l2\n",
    "from tensorflow.keras.models import Model\n",
    "from tensorflow.keras.layers import LSTM"
   ]
  },
  {
   "cell_type": "code",
   "execution_count": 4,
   "id": "915ad14f",
   "metadata": {},
   "outputs": [],
   "source": [
    "from sklearn.metrics import multilabel_confusion_matrix, accuracy_score\n",
    "from keras.models import load_model\n",
    "from scipy import stats\n",
    "import mediapipe_test as MP"
   ]
  },
  {
   "cell_type": "code",
   "execution_count": 5,
   "id": "3434660c",
   "metadata": {},
   "outputs": [],
   "source": [
    "data_path = os.path.join('Data') \n",
    "action_list = np.array(['merhaba', 'nasilsin', 'hayir','gunaydin','tesekkur','evet','bilmiyorum',\n",
    "                    'gorusuruz','iyigunler','ozurdilerim'])\n",
    "video_count = 40  \n",
    "frame_count = 40  "
   ]
  },
  {
   "cell_type": "code",
   "execution_count": 6,
   "id": "1bbc1783",
   "metadata": {},
   "outputs": [],
   "source": [
    "actionIndex  = {}\n",
    "for num, label in enumerate(action_list):\n",
    "    actionIndex[label] = num"
   ]
  },
  {
   "cell_type": "code",
   "execution_count": 7,
   "id": "4b1d1f24",
   "metadata": {},
   "outputs": [],
   "source": [
    "input_data, input_labels = [], []\n",
    "for action in action_list:\n",
    "    for data_num in range(video_count):\n",
    "        frame_list = []\n",
    "        for frame_num in range(frame_count):\n",
    "            frame_path = os.path.join(data_path, action, str(data_num), \"{}.npy\".format(frame_num))\n",
    "            frame_data = np.load(frame_path)\n",
    "            frame_list.append(frame_data)\n",
    "        input_data.append(frame_list)\n",
    "        input_labels.append(actionIndex[action])"
   ]
  },
  {
   "cell_type": "code",
   "execution_count": 8,
   "id": "250fbb9c",
   "metadata": {},
   "outputs": [],
   "source": [
    "X = np.array(input_data)"
   ]
  },
  {
   "cell_type": "code",
   "execution_count": 9,
   "id": "b5e6a175",
   "metadata": {},
   "outputs": [],
   "source": [
    "y = to_categorical(input_labels).astype(int)"
   ]
  },
  {
   "cell_type": "code",
   "execution_count": 10,
   "id": "8b30b974",
   "metadata": {},
   "outputs": [],
   "source": [
    "X_train, X_test, y_train, y_test = train_test_split(X, y, test_size=0.2, random_state=42)"
   ]
  },
  {
   "cell_type": "markdown",
   "id": "5fc31c1c",
   "metadata": {},
   "source": [
    "# Eğitim"
   ]
  },
  {
   "cell_type": "code",
   "execution_count": 10,
   "id": "a2b21606",
   "metadata": {},
   "outputs": [],
   "source": [
    "model = Sequential()\n",
    "model.add(LSTM(units=128, return_sequences=True, activation='tanh', input_shape=(40, 258)))\n",
    "model.add(Dropout(0.2))\n",
    "\n",
    "model.add(LSTM(units=256, return_sequences=True, activation='tanh'))\n",
    "model.add(Dropout(0.2))\n",
    "\n",
    "model.add(LSTM(units=128, return_sequences=False, activation='tanh'))\n",
    "model.add(Dropout(0.2))\n",
    "\n",
    "model.add(Dense(units=64, activation='relu', kernel_regularizer=l2(0.01)))\n",
    "model.add(Dropout(0.2))\n",
    "\n",
    "model.add(Dense(units=10, activation='softmax'))"
   ]
  },
  {
   "cell_type": "code",
   "execution_count": 11,
   "id": "c5245592",
   "metadata": {
    "collapsed": true
   },
   "outputs": [
    {
     "name": "stdout",
     "output_type": "stream",
     "text": [
      "Model: \"sequential\"\n",
      "_________________________________________________________________\n",
      " Layer (type)                Output Shape              Param #   \n",
      "=================================================================\n",
      " lstm (LSTM)                 (None, 40, 128)           198144    \n",
      "                                                                 \n",
      " dropout (Dropout)           (None, 40, 128)           0         \n",
      "                                                                 \n",
      " lstm_1 (LSTM)               (None, 40, 256)           394240    \n",
      "                                                                 \n",
      " dropout_1 (Dropout)         (None, 40, 256)           0         \n",
      "                                                                 \n",
      " lstm_2 (LSTM)               (None, 128)               197120    \n",
      "                                                                 \n",
      " dropout_2 (Dropout)         (None, 128)               0         \n",
      "                                                                 \n",
      " dense (Dense)               (None, 64)                8256      \n",
      "                                                                 \n",
      " dropout_3 (Dropout)         (None, 64)                0         \n",
      "                                                                 \n",
      " dense_1 (Dense)             (None, 10)                650       \n",
      "                                                                 \n",
      "=================================================================\n",
      "Total params: 798,410\n",
      "Trainable params: 798,410\n",
      "Non-trainable params: 0\n",
      "_________________________________________________________________\n"
     ]
    }
   ],
   "source": [
    "model.summary()"
   ]
  },
  {
   "cell_type": "code",
   "execution_count": 15,
   "id": "9c9112d0",
   "metadata": {},
   "outputs": [],
   "source": [
    "model.compile(loss='categorical_crossentropy',optimizer='adam',metrics=['accuracy'])"
   ]
  },
  {
   "cell_type": "code",
   "execution_count": 16,
   "id": "819c0a2a",
   "metadata": {
    "collapsed": true
   },
   "outputs": [
    {
     "name": "stdout",
     "output_type": "stream",
     "text": [
      "Epoch 1/60\n",
      "10/10 [==============================] - 5s 219ms/step - loss: 3.0544 - accuracy: 0.1594 - val_loss: 2.7950 - val_accuracy: 0.1750\n",
      "Epoch 2/60\n",
      "10/10 [==============================] - 1s 133ms/step - loss: 2.6544 - accuracy: 0.2562 - val_loss: 2.5326 - val_accuracy: 0.1375\n",
      "Epoch 3/60\n",
      "10/10 [==============================] - 1s 132ms/step - loss: 2.4281 - accuracy: 0.2750 - val_loss: 2.3500 - val_accuracy: 0.3625\n",
      "Epoch 4/60\n",
      "10/10 [==============================] - 1s 134ms/step - loss: 2.2549 - accuracy: 0.3344 - val_loss: 2.1696 - val_accuracy: 0.3750\n",
      "Epoch 5/60\n",
      "10/10 [==============================] - 1s 134ms/step - loss: 2.0556 - accuracy: 0.4250 - val_loss: 1.8971 - val_accuracy: 0.5375\n",
      "Epoch 6/60\n",
      "10/10 [==============================] - 1s 132ms/step - loss: 1.9072 - accuracy: 0.4969 - val_loss: 1.8145 - val_accuracy: 0.5750\n",
      "Epoch 7/60\n",
      "10/10 [==============================] - 1s 132ms/step - loss: 1.6694 - accuracy: 0.5813 - val_loss: 1.7620 - val_accuracy: 0.5375\n",
      "Epoch 8/60\n",
      "10/10 [==============================] - 1s 134ms/step - loss: 1.5856 - accuracy: 0.6187 - val_loss: 1.6944 - val_accuracy: 0.5500\n",
      "Epoch 9/60\n",
      "10/10 [==============================] - 1s 134ms/step - loss: 1.5947 - accuracy: 0.5813 - val_loss: 1.5201 - val_accuracy: 0.6375\n",
      "Epoch 10/60\n",
      "10/10 [==============================] - 1s 131ms/step - loss: 1.3737 - accuracy: 0.6719 - val_loss: 1.3378 - val_accuracy: 0.7125\n",
      "Epoch 11/60\n",
      "10/10 [==============================] - 1s 131ms/step - loss: 1.2853 - accuracy: 0.7156 - val_loss: 1.3775 - val_accuracy: 0.6875\n",
      "Epoch 12/60\n",
      "10/10 [==============================] - 1s 132ms/step - loss: 1.2219 - accuracy: 0.7375 - val_loss: 1.2515 - val_accuracy: 0.7250\n",
      "Epoch 13/60\n",
      "10/10 [==============================] - 1s 133ms/step - loss: 1.1276 - accuracy: 0.7500 - val_loss: 1.1784 - val_accuracy: 0.7375\n",
      "Epoch 14/60\n",
      "10/10 [==============================] - 1s 135ms/step - loss: 1.1009 - accuracy: 0.7937 - val_loss: 1.7354 - val_accuracy: 0.6500\n",
      "Epoch 15/60\n",
      "10/10 [==============================] - 1s 132ms/step - loss: 1.3371 - accuracy: 0.6812 - val_loss: 1.4132 - val_accuracy: 0.5500\n",
      "Epoch 16/60\n",
      "10/10 [==============================] - 1s 132ms/step - loss: 1.2672 - accuracy: 0.6719 - val_loss: 1.0839 - val_accuracy: 0.7875\n",
      "Epoch 17/60\n",
      "10/10 [==============================] - 1s 133ms/step - loss: 0.9828 - accuracy: 0.7531 - val_loss: 1.0178 - val_accuracy: 0.7625\n",
      "Epoch 18/60\n",
      "10/10 [==============================] - 1s 134ms/step - loss: 0.8535 - accuracy: 0.8562 - val_loss: 0.8826 - val_accuracy: 0.8625\n",
      "Epoch 19/60\n",
      "10/10 [==============================] - 1s 132ms/step - loss: 0.8130 - accuracy: 0.8375 - val_loss: 0.9674 - val_accuracy: 0.8000\n",
      "Epoch 20/60\n",
      "10/10 [==============================] - 1s 131ms/step - loss: 0.6976 - accuracy: 0.8813 - val_loss: 1.0294 - val_accuracy: 0.7750\n",
      "Epoch 21/60\n",
      "10/10 [==============================] - 1s 132ms/step - loss: 0.6779 - accuracy: 0.8813 - val_loss: 0.9282 - val_accuracy: 0.8250\n",
      "Epoch 22/60\n",
      "10/10 [==============================] - 1s 135ms/step - loss: 0.6314 - accuracy: 0.9000 - val_loss: 0.7980 - val_accuracy: 0.8000\n",
      "Epoch 23/60\n",
      "10/10 [==============================] - 1s 135ms/step - loss: 0.5628 - accuracy: 0.8969 - val_loss: 0.7605 - val_accuracy: 0.8750\n",
      "Epoch 24/60\n",
      "10/10 [==============================] - 1s 134ms/step - loss: 0.5182 - accuracy: 0.9438 - val_loss: 0.8861 - val_accuracy: 0.8125\n",
      "Epoch 25/60\n",
      "10/10 [==============================] - 1s 132ms/step - loss: 0.5433 - accuracy: 0.9094 - val_loss: 0.9135 - val_accuracy: 0.8375\n",
      "Epoch 26/60\n",
      "10/10 [==============================] - 1s 133ms/step - loss: 0.6599 - accuracy: 0.8938 - val_loss: 1.2461 - val_accuracy: 0.7000\n",
      "Epoch 27/60\n",
      "10/10 [==============================] - 1s 132ms/step - loss: 0.7363 - accuracy: 0.8469 - val_loss: 0.7077 - val_accuracy: 0.8625\n",
      "Epoch 28/60\n",
      "10/10 [==============================] - 1s 133ms/step - loss: 0.7636 - accuracy: 0.8062 - val_loss: 0.8328 - val_accuracy: 0.7875\n",
      "Epoch 29/60\n",
      "10/10 [==============================] - 1s 133ms/step - loss: 0.6304 - accuracy: 0.8781 - val_loss: 0.8434 - val_accuracy: 0.8375\n",
      "Epoch 30/60\n",
      "10/10 [==============================] - 1s 132ms/step - loss: 0.5481 - accuracy: 0.9031 - val_loss: 0.6763 - val_accuracy: 0.8375\n",
      "Epoch 31/60\n",
      "10/10 [==============================] - 1s 132ms/step - loss: 0.5232 - accuracy: 0.9125 - val_loss: 0.6647 - val_accuracy: 0.8500\n",
      "Epoch 32/60\n",
      "10/10 [==============================] - 1s 131ms/step - loss: 0.4970 - accuracy: 0.9062 - val_loss: 0.5814 - val_accuracy: 0.8625\n",
      "Epoch 33/60\n",
      "10/10 [==============================] - 1s 132ms/step - loss: 0.3927 - accuracy: 0.9563 - val_loss: 0.6273 - val_accuracy: 0.8875\n",
      "Epoch 34/60\n",
      "10/10 [==============================] - 1s 135ms/step - loss: 0.3947 - accuracy: 0.9500 - val_loss: 0.5241 - val_accuracy: 0.9125\n",
      "Epoch 35/60\n",
      "10/10 [==============================] - 1s 134ms/step - loss: 0.4302 - accuracy: 0.9375 - val_loss: 0.4906 - val_accuracy: 0.8875\n",
      "Epoch 36/60\n",
      "10/10 [==============================] - 1s 134ms/step - loss: 0.3278 - accuracy: 0.9719 - val_loss: 0.5233 - val_accuracy: 0.8875\n",
      "Epoch 37/60\n",
      "10/10 [==============================] - 1s 134ms/step - loss: 0.2843 - accuracy: 0.9906 - val_loss: 0.4803 - val_accuracy: 0.8875\n",
      "Epoch 38/60\n",
      "10/10 [==============================] - 1s 132ms/step - loss: 0.2739 - accuracy: 0.9781 - val_loss: 0.4390 - val_accuracy: 0.9125\n",
      "Epoch 39/60\n",
      "10/10 [==============================] - 1s 133ms/step - loss: 0.2598 - accuracy: 0.9906 - val_loss: 0.5147 - val_accuracy: 0.9125\n",
      "Epoch 40/60\n",
      "10/10 [==============================] - 1s 132ms/step - loss: 0.2827 - accuracy: 0.9719 - val_loss: 0.4424 - val_accuracy: 0.9250\n",
      "Epoch 41/60\n",
      "10/10 [==============================] - 1s 136ms/step - loss: 0.3224 - accuracy: 0.9563 - val_loss: 0.3857 - val_accuracy: 0.9500\n",
      "Epoch 42/60\n",
      "10/10 [==============================] - 1s 132ms/step - loss: 0.3015 - accuracy: 0.9719 - val_loss: 0.5065 - val_accuracy: 0.9125\n",
      "Epoch 43/60\n",
      "10/10 [==============================] - 1s 131ms/step - loss: 0.4104 - accuracy: 0.9094 - val_loss: 0.5682 - val_accuracy: 0.8375\n",
      "Epoch 44/60\n",
      "10/10 [==============================] - 1s 131ms/step - loss: 0.4019 - accuracy: 0.9187 - val_loss: 0.4991 - val_accuracy: 0.8750\n",
      "Epoch 45/60\n",
      "10/10 [==============================] - 1s 131ms/step - loss: 0.2827 - accuracy: 0.9594 - val_loss: 0.5376 - val_accuracy: 0.8625\n",
      "Epoch 46/60\n",
      "10/10 [==============================] - 1s 134ms/step - loss: 0.2323 - accuracy: 0.9844 - val_loss: 0.4268 - val_accuracy: 0.9125\n",
      "Epoch 47/60\n",
      "10/10 [==============================] - 1s 133ms/step - loss: 0.3546 - accuracy: 0.9375 - val_loss: 0.4589 - val_accuracy: 0.9000\n",
      "Epoch 48/60\n",
      "10/10 [==============================] - 1s 133ms/step - loss: 0.4300 - accuracy: 0.9062 - val_loss: 0.6249 - val_accuracy: 0.8125\n",
      "Epoch 49/60\n",
      "10/10 [==============================] - 1s 134ms/step - loss: 0.3958 - accuracy: 0.9312 - val_loss: 0.5030 - val_accuracy: 0.8875\n",
      "Epoch 50/60\n",
      "10/10 [==============================] - 1s 136ms/step - loss: 0.3037 - accuracy: 0.9469 - val_loss: 0.3920 - val_accuracy: 0.9250\n",
      "Epoch 51/60\n",
      "10/10 [==============================] - 1s 131ms/step - loss: 0.2510 - accuracy: 0.9688 - val_loss: 0.3958 - val_accuracy: 0.9250\n",
      "Epoch 52/60\n",
      "10/10 [==============================] - 1s 132ms/step - loss: 0.2397 - accuracy: 0.9781 - val_loss: 0.4487 - val_accuracy: 0.9125\n",
      "Epoch 53/60\n",
      "10/10 [==============================] - 1s 131ms/step - loss: 0.2254 - accuracy: 0.9781 - val_loss: 0.3521 - val_accuracy: 0.9125\n",
      "Epoch 54/60\n",
      "10/10 [==============================] - 1s 134ms/step - loss: 0.2181 - accuracy: 0.9688 - val_loss: 0.6193 - val_accuracy: 0.8375\n",
      "Epoch 55/60\n",
      "10/10 [==============================] - 1s 134ms/step - loss: 0.2561 - accuracy: 0.9594 - val_loss: 0.4088 - val_accuracy: 0.8875\n",
      "Epoch 56/60\n",
      "10/10 [==============================] - 1s 139ms/step - loss: 0.2488 - accuracy: 0.9594 - val_loss: 0.3735 - val_accuracy: 0.9250\n",
      "Epoch 57/60\n",
      "10/10 [==============================] - 1s 136ms/step - loss: 0.2204 - accuracy: 0.9625 - val_loss: 0.5846 - val_accuracy: 0.8375\n",
      "Epoch 58/60\n",
      "10/10 [==============================] - 1s 135ms/step - loss: 0.2002 - accuracy: 0.9656 - val_loss: 0.3067 - val_accuracy: 0.9375\n",
      "Epoch 59/60\n",
      "10/10 [==============================] - 1s 132ms/step - loss: 0.1755 - accuracy: 0.9781 - val_loss: 0.3725 - val_accuracy: 0.9375\n",
      "Epoch 60/60\n",
      "10/10 [==============================] - 1s 132ms/step - loss: 0.1684 - accuracy: 0.9844 - val_loss: 0.3464 - val_accuracy: 0.9375\n"
     ]
    }
   ],
   "source": [
    "history=model.fit(X_train, y_train, epochs=60,batch_size=32,validation_data=(X_test, y_test))"
   ]
  },
  {
   "cell_type": "code",
   "execution_count": 17,
   "id": "6d7138d0",
   "metadata": {
    "collapsed": true
   },
   "outputs": [
    {
     "data": {
      "image/png": "[encoded data removed]",
      "text/plain": [
       "<Figure size 640x480 with 1 Axes>"
      ]
     },
     "metadata": {},
     "output_type": "display_data"
    }
   ],
   "source": [
    "plt.plot(history.history['accuracy'], label='Train Accuracy')\n",
    "plt.plot(history.history['val_accuracy'], label='Validation Accuracy')\n",
    "plt.legend()\n",
    "plt.show()"
   ]
  },
  {
   "cell_type": "code",
   "execution_count": 18,
   "id": "e4cada95",
   "metadata": {
    "collapsed": true
   },
   "outputs": [
    {
     "data": {
      "image/png": "[encoded data removed]",
      "text/plain": [
       "<Figure size 640x480 with 1 Axes>"
      ]
     },
     "metadata": {},
     "output_type": "display_data"
    }
   ],
   "source": [
    "plt.plot(history.history['loss'], label='Train Loss')\n",
    "plt.plot(history.history['val_loss'], label='Validation Loss')\n",
    "plt.legend()\n",
    "plt.show()"
   ]
  },
  {
   "cell_type": "code",
   "execution_count": 11,
   "id": "214fed39",
   "metadata": {
    "collapsed": true
   },
   "outputs": [
    {
     "name": "stdout",
     "output_type": "stream",
     "text": [
      "Test loss: 0.34639889001846313\n",
      "Test accuracy: 0.9375\n"
     ]
    }
   ],
   "source": [
    "score = model.evaluate(X_test, y_test, verbose=0)\n",
    "print('Test loss:', score[0])\n",
    "print('Test accuracy:', score[1])"
   ]
  },
  {
   "cell_type": "markdown",
   "id": "4dbb675a",
   "metadata": {},
   "source": [
    "# Test "
   ]
  },
  {
   "cell_type": "code",
   "execution_count": 11,
   "id": "54f7213b",
   "metadata": {},
   "outputs": [],
   "source": [
    "model = load_model('lstmodel6.h5')"
   ]
  },
  {
   "cell_type": "code",
   "execution_count": 12,
   "id": "e2cb16e4",
   "metadata": {},
   "outputs": [
    {
     "name": "stdout",
     "output_type": "stream",
     "text": [
      "3/3 [==============================] - 1s 54ms/step\n"
     ]
    }
   ],
   "source": [
    "res=model.predict(X_test)"
   ]
  },
  {
   "cell_type": "code",
   "execution_count": 13,
   "id": "9e4bc03c",
   "metadata": {},
   "outputs": [],
   "source": [
    "color = (27,165,91)\n",
    "def get_result(res, action_list, input_frame, color):\n",
    "    output_frame = input_frame.copy()\n",
    "    active_action_index = None\n",
    "    active_action_prob = 0.0\n",
    "\n",
    "    for num, prob in enumerate(res):\n",
    "        if 0.8 <= prob <= 1.0:\n",
    "            if prob > active_action_prob:\n",
    "                active_action_index = num\n",
    "                active_action_prob = prob\n",
    "\n",
    "    if active_action_index is not None:\n",
    "        active_action = action_list[active_action_index]\n",
    "        text = f\"{active_action}: {active_action_prob:.3f}\"\n",
    "        cv2.rectangle(output_frame, (0, 30), (int(active_action_prob * 100), 60), color, -1)\n",
    "        cv2.putText(output_frame, text, (0, 55), cv2.FONT_HERSHEY_SIMPLEX, 1, (0, 0, 0), 2, cv2.LINE_AA)\n",
    "\n",
    "    return output_frame"
   ]
  },
  {
   "cell_type": "code",
   "execution_count": 14,
   "id": "c558db5e",
   "metadata": {},
   "outputs": [],
   "source": [
    "def get_keypoint_data(results):\n",
    "    if results.pose_landmarks:\n",
    "        pose = np.array([[pose_landmark.x, pose_landmark.y, pose_landmark.z, pose_landmark.visibility] for pose_landmark in results.pose_landmarks.landmark]).flatten()\n",
    "    else:\n",
    "        pose = np.zeros(33*4)\n",
    "\n",
    "    if results.left_hand_landmarks:\n",
    "        left_hand = np.array([[hand_landmark.x, hand_landmark.y, hand_landmark.z] for hand_landmark in results.left_hand_landmarks.landmark]).flatten()\n",
    "    else:\n",
    "        left_hand = np.zeros(21*3)\n",
    "\n",
    "    if results.right_hand_landmarks:\n",
    "        right_hand = np.array([[hand_landmark.x, hand_landmark.y, hand_landmark.z] for hand_landmark in results.right_hand_landmarks.landmark]).flatten()\n",
    "    else:\n",
    "        right_hand = np.zeros(21*3)\n",
    "\n",
    "    return np.concatenate([pose, left_hand, right_hand])"
   ]
  },
  {
   "cell_type": "code",
   "execution_count": 15,
   "id": "c18648ba",
   "metadata": {
    "collapsed": true
   },
   "outputs": [
    {
     "name": "stdout",
     "output_type": "stream",
     "text": [
      "1/1 [==============================] - 0s 33ms/step\n",
      "1/1 [==============================] - 0s 32ms/step\n",
      "1/1 [==============================] - 0s 29ms/step\n",
      "1/1 [==============================] - 0s 35ms/step\n",
      "1/1 [==============================] - 0s 29ms/step\n",
      "1/1 [==============================] - 0s 37ms/step\n",
      "1/1 [==============================] - 0s 38ms/step\n",
      "1/1 [==============================] - 0s 34ms/step\n",
      "1/1 [==============================] - 0s 38ms/step\n",
      "1/1 [==============================] - 0s 31ms/step\n",
      "1/1 [==============================] - 0s 36ms/step\n",
      "1/1 [==============================] - 0s 33ms/step\n",
      "1/1 [==============================] - 0s 34ms/step\n",
      "1/1 [==============================] - 0s 39ms/step\n",
      "1/1 [==============================] - 0s 30ms/step\n",
      "1/1 [==============================] - 0s 34ms/step\n",
      "1/1 [==============================] - 0s 29ms/step\n",
      "1/1 [==============================] - 0s 39ms/step\n",
      "1/1 [==============================] - 0s 34ms/step\n",
      "1/1 [==============================] - 0s 43ms/step\n",
      "1/1 [==============================] - 0s 31ms/step\n",
      "1/1 [==============================] - 0s 28ms/step\n",
      "1/1 [==============================] - 0s 30ms/step\n",
      "1/1 [==============================] - 0s 28ms/step\n",
      "1/1 [==============================] - 0s 42ms/step\n",
      "1/1 [==============================] - 0s 37ms/step\n",
      "1/1 [==============================] - 0s 31ms/step\n",
      "1/1 [==============================] - 0s 30ms/step\n",
      "1/1 [==============================] - 0s 34ms/step\n",
      "1/1 [==============================] - 0s 45ms/step\n",
      "1/1 [==============================] - 0s 33ms/step\n",
      "1/1 [==============================] - 0s 29ms/step\n",
      "1/1 [==============================] - 0s 37ms/step\n",
      "1/1 [==============================] - 0s 36ms/step\n",
      "1/1 [==============================] - 0s 29ms/step\n",
      "1/1 [==============================] - 0s 37ms/step\n",
      "1/1 [==============================] - 0s 28ms/step\n",
      "1/1 [==============================] - 0s 30ms/step\n",
      "1/1 [==============================] - 0s 35ms/step\n",
      "1/1 [==============================] - 0s 33ms/step\n",
      "1/1 [==============================] - 0s 32ms/step\n",
      "1/1 [==============================] - 0s 33ms/step\n",
      "1/1 [==============================] - 0s 31ms/step\n",
      "1/1 [==============================] - 0s 44ms/step\n",
      "1/1 [==============================] - 0s 29ms/step\n",
      "1/1 [==============================] - 0s 33ms/step\n",
      "1/1 [==============================] - 0s 30ms/step\n",
      "1/1 [==============================] - 0s 28ms/step\n",
      "1/1 [==============================] - 0s 32ms/step\n",
      "1/1 [==============================] - 0s 30ms/step\n",
      "1/1 [==============================] - 0s 32ms/step\n",
      "1/1 [==============================] - 0s 28ms/step\n",
      "1/1 [==============================] - 0s 31ms/step\n",
      "1/1 [==============================] - 0s 29ms/step\n",
      "1/1 [==============================] - 0s 33ms/step\n",
      "1/1 [==============================] - 0s 29ms/step\n",
      "1/1 [==============================] - 0s 28ms/step\n",
      "1/1 [==============================] - 0s 29ms/step\n",
      "1/1 [==============================] - 0s 33ms/step\n",
      "1/1 [==============================] - 0s 30ms/step\n",
      "1/1 [==============================] - 0s 38ms/step\n",
      "1/1 [==============================] - 0s 32ms/step\n",
      "1/1 [==============================] - 0s 31ms/step\n",
      "1/1 [==============================] - 0s 31ms/step\n",
      "1/1 [==============================] - 0s 27ms/step\n",
      "1/1 [==============================] - 0s 26ms/step\n",
      "1/1 [==============================] - 0s 39ms/step\n",
      "1/1 [==============================] - 0s 35ms/step\n",
      "1/1 [==============================] - 0s 37ms/step\n",
      "1/1 [==============================] - 0s 24ms/step\n",
      "1/1 [==============================] - 0s 27ms/step\n",
      "1/1 [==============================] - 0s 22ms/step\n",
      "1/1 [==============================] - 0s 28ms/step\n",
      "1/1 [==============================] - 0s 23ms/step\n",
      "1/1 [==============================] - 0s 35ms/step\n",
      "1/1 [==============================] - 0s 23ms/step\n",
      "1/1 [==============================] - 0s 31ms/step\n",
      "1/1 [==============================] - 0s 27ms/step\n",
      "1/1 [==============================] - 0s 36ms/step\n",
      "1/1 [==============================] - 0s 32ms/step\n",
      "1/1 [==============================] - 0s 23ms/step\n",
      "1/1 [==============================] - 0s 21ms/step\n",
      "1/1 [==============================] - 0s 26ms/step\n",
      "1/1 [==============================] - 0s 20ms/step\n",
      "1/1 [==============================] - 0s 25ms/step\n",
      "1/1 [==============================] - 0s 21ms/step\n",
      "1/1 [==============================] - 0s 30ms/step\n",
      "1/1 [==============================] - 0s 22ms/step\n",
      "1/1 [==============================] - 0s 33ms/step\n",
      "1/1 [==============================] - 0s 27ms/step\n",
      "1/1 [==============================] - 0s 34ms/step\n",
      "1/1 [==============================] - 0s 23ms/step\n",
      "1/1 [==============================] - 0s 32ms/step\n",
      "1/1 [==============================] - 0s 33ms/step\n",
      "1/1 [==============================] - 0s 22ms/step\n",
      "1/1 [==============================] - 0s 31ms/step\n",
      "1/1 [==============================] - 0s 22ms/step\n",
      "1/1 [==============================] - 0s 28ms/step\n",
      "1/1 [==============================] - 0s 22ms/step\n",
      "1/1 [==============================] - 0s 36ms/step\n",
      "1/1 [==============================] - 0s 31ms/step\n",
      "1/1 [==============================] - 0s 27ms/step\n",
      "1/1 [==============================] - 0s 21ms/step\n",
      "1/1 [==============================] - 0s 37ms/step\n",
      "1/1 [==============================] - 0s 34ms/step\n",
      "1/1 [==============================] - 0s 20ms/step\n",
      "1/1 [==============================] - 0s 28ms/step\n",
      "1/1 [==============================] - 0s 26ms/step\n",
      "1/1 [==============================] - 0s 28ms/step\n",
      "1/1 [==============================] - 0s 25ms/step\n",
      "1/1 [==============================] - 0s 25ms/step\n",
      "1/1 [==============================] - 0s 22ms/step\n",
      "1/1 [==============================] - 0s 20ms/step\n",
      "1/1 [==============================] - 0s 25ms/step\n",
      "1/1 [==============================] - 0s 32ms/step\n",
      "1/1 [==============================] - 0s 21ms/step\n",
      "1/1 [==============================] - 0s 28ms/step\n",
      "1/1 [==============================] - 0s 16ms/step\n",
      "1/1 [==============================] - 0s 23ms/step\n",
      "1/1 [==============================] - 0s 34ms/step\n",
      "1/1 [==============================] - 0s 29ms/step\n",
      "1/1 [==============================] - 0s 22ms/step\n",
      "1/1 [==============================] - 0s 26ms/step\n",
      "1/1 [==============================] - 0s 32ms/step\n",
      "1/1 [==============================] - 0s 26ms/step\n",
      "1/1 [==============================] - 0s 26ms/step\n",
      "1/1 [==============================] - 0s 23ms/step\n",
      "1/1 [==============================] - 0s 29ms/step\n",
      "1/1 [==============================] - 0s 22ms/step\n",
      "1/1 [==============================] - 0s 29ms/step\n",
      "1/1 [==============================] - 0s 28ms/step\n",
      "1/1 [==============================] - 0s 28ms/step\n",
      "1/1 [==============================] - 0s 30ms/step\n",
      "1/1 [==============================] - 0s 39ms/step\n",
      "1/1 [==============================] - 0s 37ms/step\n",
      "1/1 [==============================] - 0s 21ms/step\n",
      "1/1 [==============================] - 0s 23ms/step\n",
      "1/1 [==============================] - 0s 22ms/step\n",
      "1/1 [==============================] - 0s 36ms/step\n",
      "1/1 [==============================] - 0s 21ms/step\n",
      "1/1 [==============================] - 0s 27ms/step\n",
      "1/1 [==============================] - 0s 30ms/step\n",
      "1/1 [==============================] - 0s 24ms/step\n",
      "1/1 [==============================] - 0s 23ms/step\n",
      "1/1 [==============================] - 0s 21ms/step\n",
      "1/1 [==============================] - 0s 22ms/step\n",
      "1/1 [==============================] - 0s 26ms/step\n",
      "1/1 [==============================] - 0s 24ms/step\n",
      "1/1 [==============================] - 0s 23ms/step\n",
      "1/1 [==============================] - 0s 28ms/step\n",
      "1/1 [==============================] - 0s 24ms/step\n",
      "1/1 [==============================] - 0s 14ms/step\n",
      "1/1 [==============================] - 0s 21ms/step\n",
      "1/1 [==============================] - 0s 21ms/step\n",
      "1/1 [==============================] - 0s 23ms/step\n",
      "1/1 [==============================] - 0s 26ms/step\n",
      "1/1 [==============================] - 0s 36ms/step\n"
     ]
    },
    {
     "name": "stdout",
     "output_type": "stream",
     "text": [
      "1/1 [==============================] - 0s 38ms/step\n",
      "1/1 [==============================] - 0s 34ms/step\n",
      "1/1 [==============================] - 0s 27ms/step\n",
      "1/1 [==============================] - 0s 25ms/step\n",
      "1/1 [==============================] - 0s 23ms/step\n",
      "1/1 [==============================] - 0s 35ms/step\n",
      "1/1 [==============================] - 0s 29ms/step\n",
      "1/1 [==============================] - 0s 25ms/step\n",
      "1/1 [==============================] - 0s 22ms/step\n",
      "1/1 [==============================] - 0s 33ms/step\n",
      "1/1 [==============================] - 0s 32ms/step\n",
      "1/1 [==============================] - 0s 21ms/step\n",
      "1/1 [==============================] - 0s 23ms/step\n",
      "1/1 [==============================] - 0s 31ms/step\n",
      "1/1 [==============================] - 0s 16ms/step\n",
      "1/1 [==============================] - 0s 16ms/step\n",
      "1/1 [==============================] - 0s 33ms/step\n",
      "1/1 [==============================] - 0s 23ms/step\n",
      "1/1 [==============================] - 0s 29ms/step\n",
      "1/1 [==============================] - 0s 24ms/step\n",
      "1/1 [==============================] - 0s 22ms/step\n",
      "1/1 [==============================] - 0s 26ms/step\n",
      "1/1 [==============================] - 0s 17ms/step\n",
      "1/1 [==============================] - 0s 16ms/step\n",
      "1/1 [==============================] - 0s 32ms/step\n",
      "1/1 [==============================] - 0s 21ms/step\n",
      "1/1 [==============================] - 0s 22ms/step\n",
      "1/1 [==============================] - 0s 28ms/step\n",
      "1/1 [==============================] - 0s 36ms/step\n",
      "1/1 [==============================] - 0s 27ms/step\n",
      "1/1 [==============================] - 0s 26ms/step\n",
      "1/1 [==============================] - 0s 33ms/step\n",
      "1/1 [==============================] - 0s 23ms/step\n",
      "1/1 [==============================] - 0s 23ms/step\n",
      "1/1 [==============================] - 0s 21ms/step\n",
      "1/1 [==============================] - 0s 32ms/step\n",
      "1/1 [==============================] - 0s 22ms/step\n",
      "1/1 [==============================] - 0s 21ms/step\n",
      "1/1 [==============================] - 0s 28ms/step\n",
      "1/1 [==============================] - 0s 28ms/step\n",
      "1/1 [==============================] - 0s 24ms/step\n",
      "1/1 [==============================] - 0s 24ms/step\n",
      "1/1 [==============================] - 0s 34ms/step\n",
      "1/1 [==============================] - 0s 26ms/step\n",
      "1/1 [==============================] - 0s 39ms/step\n",
      "1/1 [==============================] - 0s 38ms/step\n",
      "1/1 [==============================] - 0s 33ms/step\n",
      "1/1 [==============================] - 0s 27ms/step\n",
      "1/1 [==============================] - 0s 34ms/step\n",
      "1/1 [==============================] - 0s 33ms/step\n",
      "1/1 [==============================] - 0s 34ms/step\n",
      "1/1 [==============================] - 0s 30ms/step\n",
      "1/1 [==============================] - 0s 30ms/step\n",
      "1/1 [==============================] - 0s 26ms/step\n",
      "1/1 [==============================] - 0s 33ms/step\n",
      "1/1 [==============================] - 0s 40ms/step\n",
      "1/1 [==============================] - 0s 37ms/step\n",
      "1/1 [==============================] - 0s 36ms/step\n",
      "1/1 [==============================] - 0s 31ms/step\n",
      "1/1 [==============================] - 0s 31ms/step\n",
      "1/1 [==============================] - 0s 37ms/step\n",
      "1/1 [==============================] - 0s 24ms/step\n",
      "1/1 [==============================] - 0s 24ms/step\n",
      "1/1 [==============================] - 0s 22ms/step\n",
      "1/1 [==============================] - 0s 35ms/step\n",
      "1/1 [==============================] - 0s 23ms/step\n",
      "1/1 [==============================] - 0s 25ms/step\n",
      "1/1 [==============================] - 0s 28ms/step\n",
      "1/1 [==============================] - 0s 35ms/step\n",
      "1/1 [==============================] - 0s 16ms/step\n",
      "1/1 [==============================] - 0s 16ms/step\n",
      "1/1 [==============================] - 0s 16ms/step\n",
      "1/1 [==============================] - 0s 28ms/step\n",
      "1/1 [==============================] - 0s 23ms/step\n",
      "1/1 [==============================] - 0s 22ms/step\n",
      "1/1 [==============================] - 0s 24ms/step\n",
      "1/1 [==============================] - 0s 21ms/step\n",
      "1/1 [==============================] - 0s 33ms/step\n",
      "1/1 [==============================] - 0s 27ms/step\n",
      "1/1 [==============================] - 0s 33ms/step\n",
      "1/1 [==============================] - 0s 33ms/step\n",
      "1/1 [==============================] - 0s 35ms/step\n",
      "1/1 [==============================] - 0s 26ms/step\n",
      "1/1 [==============================] - 0s 28ms/step\n",
      "1/1 [==============================] - 0s 28ms/step\n",
      "1/1 [==============================] - 0s 21ms/step\n",
      "1/1 [==============================] - 0s 39ms/step\n",
      "1/1 [==============================] - 0s 26ms/step\n",
      "1/1 [==============================] - 0s 35ms/step\n",
      "1/1 [==============================] - 0s 35ms/step\n",
      "1/1 [==============================] - 0s 35ms/step\n",
      "1/1 [==============================] - 0s 33ms/step\n",
      "1/1 [==============================] - 0s 35ms/step\n",
      "1/1 [==============================] - 0s 31ms/step\n",
      "1/1 [==============================] - 0s 19ms/step\n",
      "1/1 [==============================] - 0s 34ms/step\n",
      "1/1 [==============================] - 0s 24ms/step\n",
      "1/1 [==============================] - 0s 22ms/step\n",
      "1/1 [==============================] - 0s 27ms/step\n",
      "1/1 [==============================] - 0s 22ms/step\n",
      "1/1 [==============================] - 0s 36ms/step\n",
      "1/1 [==============================] - 0s 23ms/step\n",
      "1/1 [==============================] - 0s 31ms/step\n",
      "1/1 [==============================] - 0s 16ms/step\n",
      "1/1 [==============================] - 0s 35ms/step\n",
      "1/1 [==============================] - 0s 22ms/step\n",
      "1/1 [==============================] - 0s 30ms/step\n",
      "1/1 [==============================] - 0s 26ms/step\n",
      "1/1 [==============================] - 0s 26ms/step\n",
      "1/1 [==============================] - 0s 22ms/step\n",
      "1/1 [==============================] - 0s 33ms/step\n",
      "1/1 [==============================] - 0s 29ms/step\n",
      "1/1 [==============================] - 0s 36ms/step\n",
      "1/1 [==============================] - 0s 24ms/step\n",
      "1/1 [==============================] - 0s 28ms/step\n",
      "1/1 [==============================] - 0s 28ms/step\n",
      "1/1 [==============================] - 0s 23ms/step\n",
      "1/1 [==============================] - 0s 31ms/step\n",
      "1/1 [==============================] - 0s 30ms/step\n",
      "1/1 [==============================] - 0s 24ms/step\n",
      "1/1 [==============================] - 0s 27ms/step\n",
      "1/1 [==============================] - 0s 37ms/step\n",
      "1/1 [==============================] - 0s 32ms/step\n",
      "1/1 [==============================] - 0s 26ms/step\n",
      "1/1 [==============================] - 0s 26ms/step\n",
      "1/1 [==============================] - 0s 32ms/step\n",
      "1/1 [==============================] - 0s 36ms/step\n",
      "1/1 [==============================] - 0s 25ms/step\n",
      "1/1 [==============================] - 0s 27ms/step\n",
      "1/1 [==============================] - 0s 29ms/step\n",
      "1/1 [==============================] - 0s 33ms/step\n",
      "1/1 [==============================] - 0s 30ms/step\n",
      "1/1 [==============================] - 0s 37ms/step\n",
      "1/1 [==============================] - 0s 25ms/step\n",
      "1/1 [==============================] - 0s 23ms/step\n",
      "1/1 [==============================] - 0s 16ms/step\n",
      "1/1 [==============================] - 0s 19ms/step\n",
      "1/1 [==============================] - 0s 25ms/step\n",
      "1/1 [==============================] - 0s 28ms/step\n",
      "1/1 [==============================] - 0s 34ms/step\n",
      "1/1 [==============================] - 0s 32ms/step\n",
      "1/1 [==============================] - 0s 37ms/step\n",
      "1/1 [==============================] - 0s 23ms/step\n",
      "1/1 [==============================] - 0s 29ms/step\n",
      "1/1 [==============================] - 0s 27ms/step\n",
      "1/1 [==============================] - 0s 24ms/step\n",
      "1/1 [==============================] - 0s 30ms/step\n",
      "1/1 [==============================] - 0s 22ms/step\n",
      "1/1 [==============================] - 0s 31ms/step\n",
      "1/1 [==============================] - 0s 32ms/step\n",
      "1/1 [==============================] - 0s 21ms/step\n",
      "1/1 [==============================] - 0s 36ms/step\n",
      "1/1 [==============================] - 0s 16ms/step\n",
      "1/1 [==============================] - 0s 22ms/step\n",
      "1/1 [==============================] - 0s 28ms/step\n",
      "1/1 [==============================] - 0s 14ms/step\n",
      "1/1 [==============================] - 0s 21ms/step\n"
     ]
    },
    {
     "name": "stdout",
     "output_type": "stream",
     "text": [
      "1/1 [==============================] - 0s 28ms/step\n",
      "1/1 [==============================] - 0s 28ms/step\n",
      "1/1 [==============================] - 0s 26ms/step\n",
      "1/1 [==============================] - 0s 24ms/step\n",
      "1/1 [==============================] - 0s 22ms/step\n",
      "1/1 [==============================] - 0s 24ms/step\n",
      "1/1 [==============================] - 0s 23ms/step\n",
      "1/1 [==============================] - 0s 24ms/step\n",
      "1/1 [==============================] - 0s 28ms/step\n",
      "1/1 [==============================] - 0s 24ms/step\n",
      "1/1 [==============================] - 0s 20ms/step\n",
      "1/1 [==============================] - 0s 26ms/step\n",
      "1/1 [==============================] - 0s 28ms/step\n",
      "1/1 [==============================] - 0s 26ms/step\n",
      "1/1 [==============================] - 0s 28ms/step\n",
      "1/1 [==============================] - 0s 23ms/step\n",
      "1/1 [==============================] - 0s 27ms/step\n",
      "1/1 [==============================] - 0s 23ms/step\n",
      "1/1 [==============================] - 0s 22ms/step\n",
      "1/1 [==============================] - 0s 21ms/step\n",
      "1/1 [==============================] - 0s 21ms/step\n",
      "1/1 [==============================] - 0s 24ms/step\n"
     ]
    }
   ],
   "source": [
    "keypoint_sequence = []\n",
    "action_sentence = []\n",
    "threshold = 0.8\n",
    "\n",
    "cap = cv2.VideoCapture(0)\n",
    "\n",
    "with MP.mp_holistic.Holistic(min_detection_confidence=0.5, min_tracking_confidence=0.5) as holistic:\n",
    "    while cap.isOpened():\n",
    "        ret, frame = cap.read()\n",
    "        \n",
    "        image, results = MP.process_image(frame, holistic)\n",
    "\n",
    "        MP.draw_customized_landmarks(image, results)\n",
    "        \n",
    "        keypointData = get_keypoint_data(results)\n",
    "        keypoint_sequence.append(keypointData)\n",
    "        keypoint_sequence = keypoint_sequence[-40:]\n",
    "        \n",
    "        if len(keypoint_sequence) == 40:            \n",
    "            res  = model.predict(np.expand_dims(keypoint_sequence, axis=0))[0]            \n",
    "            if res[np.argmax(res)] > threshold: \n",
    "                if len(action_sentence) > 0: \n",
    "                    if action_list[np.argmax(res)] != action_sentence[-1]:\n",
    "                        action_sentence.append(action_list[np.argmax(res)])\n",
    "                else:\n",
    "                    action_sentence.append(action_list[np.argmax(res)])\n",
    "\n",
    "            if len(action_sentence) >10: \n",
    "                action_sentence = action_sentence[-10:]\n",
    "\n",
    "            image = get_result(res, action_list, image, color)\n",
    "        \n",
    "        cv2.imshow('Camera', image)\n",
    "\n",
    "        if cv2.waitKey(10) & 0xFF == ord('q'):\n",
    "            break\n",
    "    cap.release()\n",
    "    cv2.destroyAllWindows()"
   ]
  },
  {
   "cell_type": "code",
   "execution_count": 30,
   "id": "9a837b79",
   "metadata": {},
   "outputs": [],
   "source": [
    "from sklearn.metrics import confusion_matrix, accuracy_score,precision_score,recall_score,classification_report"
   ]
  },
  {
   "cell_type": "code",
   "execution_count": 19,
   "id": "76159c97",
   "metadata": {
    "collapsed": true
   },
   "outputs": [
    {
     "name": "stdout",
     "output_type": "stream",
     "text": [
      "3/3 [==============================] - 0s 49ms/step\n"
     ]
    }
   ],
   "source": [
    "y_predict = model.predict(X_test)"
   ]
  },
  {
   "cell_type": "code",
   "execution_count": 20,
   "id": "78e26524",
   "metadata": {},
   "outputs": [],
   "source": [
    "y_true = np.argmax(y_test, axis=1).tolist()\n",
    "y_predict = np.argmax(y_predict, axis=1).tolist() "
   ]
  },
  {
   "cell_type": "code",
   "execution_count": 35,
   "id": "dee6aeb2",
   "metadata": {},
   "outputs": [],
   "source": [
    "cm=confusion_matrix(y_true,y_predict)"
   ]
  },
  {
   "cell_type": "code",
   "execution_count": 36,
   "id": "d218c103",
   "metadata": {},
   "outputs": [
    {
     "data": {
      "image/png": "[encoded data removed]",
      "text/plain": [
       "<Figure size 1000x800 with 2 Axes>"
      ]
     },
     "metadata": {},
     "output_type": "display_data"
    }
   ],
   "source": [
    "plt.figure(figsize=(10, 8))\n",
    "plt.imshow(cm, interpolation='nearest', cmap=plt.cm.Reds)\n",
    "for i in range(cm.shape[0]):\n",
    "    for j in range(cm.shape[1]):\n",
    "        plt.text(j, i, cm[i, j], ha='center', va='center', color='white')\n",
    "plt.title('Confusion Matrix')\n",
    "plt.colorbar()\n",
    "plt.xlabel('Predicted Classes')\n",
    "plt.ylabel('True Classes')\n",
    "plt.xticks(np.arange(len(action_list)), action_list, rotation=45)\n",
    "plt.yticks(np.arange(len(action_list)), action_list)\n",
    "plt.show()"
   ]
  },
  {
   "cell_type": "code",
   "execution_count": 40,
   "id": "e9369cd0",
   "metadata": {},
   "outputs": [],
   "source": [
    "report = classification_report(y_true, y_predict, target_names=action_list)"
   ]
  },
  {
   "cell_type": "code",
   "execution_count": 42,
   "id": "7c817f63",
   "metadata": {},
   "outputs": [
    {
     "name": "stdout",
     "output_type": "stream",
     "text": [
      "              precision    recall  f1-score   support\n",
      "\n",
      "     merhaba       1.00      1.00      1.00        10\n",
      "    nasilsin       0.92      1.00      0.96        12\n",
      "       hayir       0.75      1.00      0.86         9\n",
      "    gunaydin       0.88      0.88      0.88         8\n",
      "    tesekkur       1.00      1.00      1.00         5\n",
      "        evet       1.00      0.71      0.83         7\n",
      "  bilmiyorum       1.00      0.88      0.93         8\n",
      "   gorusuruz       1.00      1.00      1.00         3\n",
      "   iyigunler       1.00      0.83      0.91         6\n",
      " ozurdilerim       1.00      1.00      1.00        12\n",
      "\n",
      "    accuracy                           0.94        80\n",
      "   macro avg       0.95      0.93      0.94        80\n",
      "weighted avg       0.95      0.94      0.94        80\n",
      "\n"
     ]
    }
   ],
   "source": [
    "print(report)"
   ]
  },
  {
   "cell_type": "code",
   "execution_count": null,
   "id": "336d69ab",
   "metadata": {},
   "outputs": [],
   "source": []
  }
 ],
 "metadata": {
  "kernelspec": {
   "display_name": "Python 3 (ipykernel)",
   "language": "python",
   "name": "python3"
  },
  "language_info": {
   "codemirror_mode": {
    "name": "ipython",
    "version": 3
   },
   "file_extension": ".py",
   "mimetype": "text/x-python",
   "name": "python",
   "nbconvert_exporter": "python",
   "pygments_lexer": "ipython3",
   "version": "3.10.9"
  }
 },
 "nbformat": 4,
 "nbformat_minor": 5
}
